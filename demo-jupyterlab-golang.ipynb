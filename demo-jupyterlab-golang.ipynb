{
 "cells": [
  {
   "cell_type": "markdown",
   "metadata": {
    "slideshow": {
     "slide_type": "slide"
    }
   },
   "source": [
    "# Agenda\n",
    "\n",
    "- Brief Jupyter notebook introduction\n",
    "<center>\n",
    "<img src=\"images/jupyter/jupyter-logo.svg\" width=\"75\" align=\"center\"/>\n",
    "</center>\n",
    "\n",
    "- Golang introduction \n",
    "\n",
    "<center>\n",
    "<img src=\"images/golang/golang-logo.png\" width=\"150\" align=\"center\"/>\n",
    "</center>"
   ]
  },
  {
   "cell_type": "markdown",
   "metadata": {
    "slideshow": {
     "slide_type": "slide"
    }
   },
   "source": [
    "# Jupyter notebooks\n",
    "\n",
    "- Jupyter notebooks allow an <span style=\"color:blue\">interactive computing </span> experience\n",
    "- Jupyter notebooks supports <span style=\"color:blue\">many programming languages</span>\n",
    "- Project Jupyter is an popular <span style=\"color:blue\">open source </span> project supported by many contributors and <span style=\"color:blue\">companies</span>\n",
    "\n",
    "<center>\n",
    "<img src=\"images/jupyter/Jupyter-logo-languages.png\" width=\"250\"/>\n",
    "</center>"
   ]
  },
  {
   "attachments": {},
   "cell_type": "markdown",
   "metadata": {
    "slideshow": {
     "slide_type": "slide"
    }
   },
   "source": [
    "### Two type webside like interaces exist:\n",
    "[(Classic) IPhyhton](https://jupyter-notebook.readthedocs.io/) | [Jupyterlab](https://jupyterlab.readthedocs.io/en/stable/)\n",
    "-|-\n",
    "![IPython](images/jupyter/jupyter-notebook-default.png)|![Jupyterlab](images/jupyter/jupyterlab.png)\n",
    "*Old* | *New*\n",
    "\n"
   ]
  },
  {
   "cell_type": "markdown",
   "metadata": {
    "slideshow": {
     "slide_type": "slide"
    }
   },
   "source": [
    "### IPython notebook\n",
    "\n",
    "1. Notebooks dashboard\n",
    "2. Notebook Editor mode\n",
    "3. File Editor mode"
   ]
  },
  {
   "cell_type": "markdown",
   "metadata": {
    "slideshow": {
     "slide_type": "slide"
    }
   },
   "source": [
    "# References\n",
    "\n",
    "- [Jupyter Notebook Features](http://arogozhnikov.github.io/2016/09/10/jupyter-features.html)\n",
    "- [Creating Slides with Jupyter Notebook](https://www.markroepke.me/blog/)\n",
    "- [Read the docs: Notebook](https://jupyter-notebook.readthedocs.io/en/stable/index.html) \n",
    "- [Read the docs: Jupyterlab](https://jupyterlab.readthedocs.io/en/stable/)"
   ]
  },
  {
   "cell_type": "markdown",
   "metadata": {
    "slideshow": {
     "slide_type": "slide"
    }
   },
   "source": [
    "# Golang\n",
    "\n",
    "- [Golang using Jupyterlab](introduction-go-main.ipynb)"
   ]
  }
 ],
 "metadata": {
  "celltoolbar": "Slideshow",
  "kernelspec": {
   "display_name": "Go",
   "language": "go",
   "name": "gophernotes"
  },
  "language_info": {
   "codemirror_mode": "",
   "file_extension": ".go",
   "mimetype": "",
   "name": "go",
   "nbconvert_exporter": "",
   "pygments_lexer": "",
   "version": "go1.14.3"
  }
 },
 "nbformat": 4,
 "nbformat_minor": 4
}
