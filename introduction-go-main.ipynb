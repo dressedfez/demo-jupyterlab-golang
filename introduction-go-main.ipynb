{
 "cells": [
  {
   "cell_type": "markdown",
   "metadata": {
    "slideshow": {
     "slide_type": "slide"
    }
   },
   "source": [
    "# ‘‘Go is an open source programming language that makes it easy to build simple, reliable, and efficient software.’’ \n",
    "\n",
    "(From the Go web site at golang.org)"
   ]
  },
  {
   "cell_type": "markdown",
   "metadata": {
    "slideshow": {
     "slide_type": "slide"
    }
   },
   "source": [
    "### <span style=\"color:blue\">Names</span>\n",
    "\n",
    "**Naming rules for Golang** constants, variables, types, statement labels and packages:\n",
    "\n",
    "1. name can begin with any Unicode letter or\n",
    "2. an underscore\n",
    "3. may have any number of additional letters, digits or underscores\n",
    "4. Go is **case sensitive**\n",
    "\n"
   ]
  },
  {
   "cell_type": "code",
   "execution_count": null,
   "metadata": {
    "slideshow": {
     "slide_type": "subslide"
    }
   },
   "outputs": [],
   "source": [
    "// uni code example\n",
    "var  食 string = \"Leberwurst\""
   ]
  },
  {
   "cell_type": "code",
   "execution_count": null,
   "metadata": {
    "slideshow": {
     "slide_type": "subslide"
    }
   },
   "outputs": [],
   "source": [
    "// underscore example   \n",
    "_numberOfStarsInTheMilkyWay :=4*10^11 // according to Wikipedia "
   ]
  },
  {
   "cell_type": "code",
   "execution_count": null,
   "metadata": {
    "slideshow": {
     "slide_type": "subslide"
    }
   },
   "outputs": [],
   "source": [
    "// any number of additional letters, digits and underscores\n",
    "var czesć_times_4 string = \"hello, hallo, hi, olla\""
   ]
  },
  {
   "cell_type": "code",
   "execution_count": null,
   "metadata": {
    "slideshow": {
     "slide_type": "subslide"
    }
   },
   "outputs": [],
   "source": [
    "// is case sensitive\n",
    "var color string = \"green\"\n",
    "var Color string = \"blue\"\n",
    "color == color\n",
    "//color == Color"
   ]
  },
  {
   "cell_type": "markdown",
   "metadata": {
    "slideshow": {
     "slide_type": "slide"
    }
   },
   "source": [
    "### <span style=\"color:blue\">Keywords</span>\n",
    "\n",
    "Go has only a very **small number** of keywords:\n",
    "\n",
    "<table>\n",
    "<tr>\n",
    "    <td>break</td>\n",
    "    <td>default</td>\n",
    "    <td>func</td>\n",
    "    <td>interface</td>\n",
    "    <td>select</td>\n",
    "</tr>\n",
    "<tr>\n",
    "    <td>case</td>\n",
    "    <td>defer</td>\n",
    "    <td>go</td>\n",
    "    <td>map</td>\n",
    "    <td>struct</td>\n",
    "</tr>\n",
    "<tr>\n",
    "    <td>chan</td>\n",
    "    <td>else</td>\n",
    "    <td>goto</td>\n",
    "    <td>package</td>\n",
    "    <td>switch</td>\n",
    "</tr>\n",
    "<tr>\n",
    "    <td>const</td>\n",
    "    <td>fallthrough</td>\n",
    "    <td>if</td>\n",
    "    <td>range</td>\n",
    "    <td>type</td>\n",
    "</tr>\n",
    "<tr>\n",
    "    <td>continue</td>\n",
    "    <td>for</td>\n",
    "    <td>import</td>\n",
    "    <td>return</td>\n",
    "    <td>var</td>\n",
    "</tr>\n",
    "</table>\n",
    "\n",
    "<p>\n",
    "\n",
    "<center>\n",
    "<span style=\"color:red\">NOTE:</span> can't be used as names\n",
    "</center>"
   ]
  },
  {
   "cell_type": "markdown",
   "metadata": {
    "slideshow": {
     "slide_type": "subslide"
    }
   },
   "source": [
    "\n",
    "### <span style=\"color:blue\">Unfamiliar from other languages:</span>\n",
    "\n",
    "<table>\n",
    "<tr>\n",
    "    <td>break</td>\n",
    "    <td>default</td>\n",
    "    <td>func</td>\n",
    "    <td>interface</td>\n",
    "    <td style=\"color:red\">select</td>\n",
    "</tr>\n",
    "<tr>\n",
    "    <td>case</td>\n",
    "    <td style=\"color:red\">defer</td>\n",
    "    <td style=\"color:red\">go</td>\n",
    "    <td>map</td>\n",
    "    <td>struct</td>\n",
    "</tr>\n",
    "<tr>\n",
    "    <td style=\"color:red\">chan</td>\n",
    "    <td>else</td>\n",
    "    <td>goto</td>\n",
    "    <td>package</td>\n",
    "    <td>switch</td>\n",
    "</tr>\n",
    "<tr>\n",
    "    <td>const</td>\n",
    "    <td>fallthrough</td>\n",
    "    <td>if</td>\n",
    "    <td style=\"color:red\">range</td>\n",
    "    <td>type</td>\n",
    "</tr>\n",
    "<tr>\n",
    "    <td>continue</td>\n",
    "    <td>for</td>\n",
    "    <td>import</td>\n",
    "    <td>return</td>\n",
    "    <td>var</td>\n",
    "</tr>\n",
    "</table>\n",
    "\n",
    "<p>\n",
    "\n",
    "<center>\n",
    "<span style=\"color:red\">NOTE:</span> will be explained later\n",
    "</center>"
   ]
  },
  {
   "cell_type": "markdown",
   "metadata": {
    "slideshow": {
     "slide_type": "slide"
    }
   },
   "source": [
    "### <span style=\"color:blue\">Predeclared names for built-in constants, types and functions</span>\n",
    "\n",
    "<table>\n",
    "<tr>\n",
    "    <td style=\"color:blue\">Constants</td>\n",
    "    <td>true, false, iota, nil</td>\n",
    "</tr>\n",
    "<tr>\n",
    "    <td style=\"color:blue\">Types</td>\n",
    "    <td> <p> int, int8, int16, int32, int64,\n",
    "        <p> uint8, uint16, uint32, uint64, uintptr,\n",
    "        <p>float32, float64, complex128, complex64,\n",
    "        <p>bool, byte, rune, string, error\n",
    "    </td>\n",
    "</tr>\n",
    "<tr>\n",
    "    <td style=\"color:blue\">Functions</td>\n",
    "    <td><p>make, len, cap, new, append, copy, close, delete,\n",
    "        <p>complex, real, imag,\n",
    "        <p>panic, recover\n",
    "    </td>\n",
    "</tr>\n",
    "</table>"
   ]
  },
  {
   "cell_type": "markdown",
   "metadata": {
    "slideshow": {
     "slide_type": "subslide"
    }
   },
   "source": [
    "<span style=\"color:red\">NOTE:</span>\n",
    "    \n",
    " - names are not resevered -> you may use them\n",
    " - potential confusion"
   ]
  },
  {
   "cell_type": "markdown",
   "metadata": {
    "scrolled": true,
    "slideshow": {
     "slide_type": "slide"
    }
   },
   "source": [
    "### <span style=\"color:blue\">Variable declaration</span>\n",
    "<p>\n",
    "<center>\n",
    "    <code> var name type = expression </code>\n",
    "</center>\n",
    "\n",
    "- either *type* or *expression* may be omitted, but **not both**\n",
    "- if *type* is omitted, the initial **expression** determines the *type*\n",
    "- if *expression* is omitted, the initial value is the **zero value** of the *type* (*zero value mechanism*)"
   ]
  },
  {
   "cell_type": "markdown",
   "metadata": {
    "slideshow": {
     "slide_type": "subslide"
    }
   },
   "source": [
    "### <span style=\"color:blue\">Question:</span> Can you declare more than one variable in one go?"
   ]
  },
  {
   "cell_type": "code",
   "execution_count": null,
   "metadata": {
    "scrolled": true,
    "slideshow": {
     "slide_type": "subslide"
    }
   },
   "outputs": [],
   "source": [
    "// try yourself"
   ]
  },
  {
   "cell_type": "markdown",
   "metadata": {
    "slideshow": {
     "slide_type": "slide"
    }
   },
   "source": [
    "### <span style=\"color:blue\">Short variable declaration</span>\n",
    "<p>\n",
    "<center>\n",
    "    <code> name [,name1, name2,...] := expression [,expresssion1, expression2,...] </code>\n",
    "</center>\n",
    "\n",
    "- only allowed **within** a function, i.e. only local variables\n",
    "- a short variable declation **must** at least declare **one** new variable\n",
    "- if some of the assigned variables is already defined in the lexical scope, then this declaration acts as an assignment operator"
   ]
  },
  {
   "cell_type": "markdown",
   "metadata": {
    "slideshow": {
     "slide_type": "slide"
    }
   },
   "source": [
    "### <span style=\"color:blue\">Pointer variables</span>\n",
    "<p>\n",
    "- Standard variable declaration:\n",
    "    <p>\n",
    "    <center>\n",
    "        <code> var speed int = 200 </code>   \n",
    "    </center>\n",
    "    <p>\n",
    "- Get the address with & address-of-operator\n",
    "    <p>\n",
    "    <center>\n",
    "        <code>pointerToSpeed = &speed</code>   \n",
    "    </center>"
   ]
  },
  {
   "cell_type": "code",
   "execution_count": null,
   "metadata": {
    "slideshow": {
     "slide_type": "fragment"
    }
   },
   "outputs": [],
   "source": [
    "var speed int = 200\n",
    "pointerToSpeed := &speed\n",
    "\n",
    "// print out pointer\n",
    "pointerToSpeed"
   ]
  },
  {
   "cell_type": "markdown",
   "metadata": {
    "slideshow": {
     "slide_type": "slide"
    }
   },
   "source": [
    "### <span style=\"color:blue\">Modify content pointer to variables</span>\n",
    "<p>\n",
    "- Change value of variable speed through pointerToSpeed\n",
    "    <p>\n",
    "    <center>\n",
    "        <code> *pointerToSpeed  = 100 </code>   \n",
    "    </center>\n",
    "    <p>"
   ]
  },
  {
   "cell_type": "code",
   "execution_count": null,
   "metadata": {
    "slideshow": {
     "slide_type": "fragment"
    }
   },
   "outputs": [],
   "source": [
    "// change value\n",
    "*pointerToSpeed=100\n",
    "// print out values of referenced variable\n",
    "speed"
   ]
  },
  {
   "cell_type": "code",
   "execution_count": null,
   "metadata": {
    "slideshow": {
     "slide_type": "fragment"
    }
   },
   "outputs": [],
   "source": [
    "// check pointer value is the same\n",
    "pointerToSpeed"
   ]
  },
  {
   "cell_type": "markdown",
   "metadata": {
    "slideshow": {
     "slide_type": "fragment"
    }
   },
   "source": [
    "<center style=\"color:red\">\n",
    "Address stays the same!\n",
    "    </center>"
   ]
  }
 ],
 "metadata": {
  "celltoolbar": "Slideshow",
  "kernelspec": {
   "display_name": "Go",
   "language": "go",
   "name": "gophernotes"
  },
  "language_info": {
   "codemirror_mode": "",
   "file_extension": ".go",
   "mimetype": "",
   "name": "go",
   "nbconvert_exporter": "",
   "pygments_lexer": "",
   "version": "go1.14.3"
  }
 },
 "nbformat": 4,
 "nbformat_minor": 4
}
