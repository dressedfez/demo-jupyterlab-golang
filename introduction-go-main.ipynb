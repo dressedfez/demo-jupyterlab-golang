{
 "cells": [
  {
   "cell_type": "markdown",
   "metadata": {
    "slideshow": {
     "slide_type": "slide"
    }
   },
   "source": [
    "# ‘‘Go is an open source programming language that makes it easy to build simple, reliable, and efficient software.’’ \n",
    "\n",
    "(From the Go web site at golang.org)"
   ]
  },
  {
   "cell_type": "markdown",
   "metadata": {
    "slideshow": {
     "slide_type": "slide"
    }
   },
   "source": [
    "# <span style=\"color:blue\">Names</span>\n",
    "\n",
    "**Naming rules for Golang** constants, variables, types, statement labels and packages:\n",
    "\n",
    "1. name can begin with any Unicode letter or\n",
    "2. an underscore\n",
    "3. may have any number of additional letters, digits or underscores\n",
    "4. Go is **case sensitive**\n",
    "\n"
   ]
  },
  {
   "cell_type": "code",
   "execution_count": null,
   "metadata": {
    "slideshow": {
     "slide_type": "subslide"
    }
   },
   "outputs": [],
   "source": [
    "// uni code example\n",
    "var  食 string = \"Leberwurst\""
   ]
  },
  {
   "cell_type": "code",
   "execution_count": null,
   "metadata": {
    "slideshow": {
     "slide_type": "subslide"
    }
   },
   "outputs": [],
   "source": [
    "// underscore example   \n",
    "_numberOfStarsInTheMilkyWay :=4*10^11 // according to Wikipedia "
   ]
  },
  {
   "cell_type": "code",
   "execution_count": null,
   "metadata": {
    "slideshow": {
     "slide_type": "subslide"
    }
   },
   "outputs": [],
   "source": [
    "// any number of additional letters, digits and underscores\n",
    "var czesć_times_4 string = \"hello, hallo, hi, olla\""
   ]
  },
  {
   "cell_type": "code",
   "execution_count": null,
   "metadata": {
    "slideshow": {
     "slide_type": "subslide"
    }
   },
   "outputs": [],
   "source": [
    "// is case sensitive\n",
    "var color string = \"green\"\n",
    "var Color string = \"blue\"\n",
    "color == color\n",
    "//color == Color"
   ]
  }
 ],
 "metadata": {
  "celltoolbar": "Slideshow",
  "kernelspec": {
   "display_name": "Go",
   "language": "go",
   "name": "gophernotes"
  },
  "language_info": {
   "codemirror_mode": "",
   "file_extension": ".go",
   "mimetype": "",
   "name": "go",
   "nbconvert_exporter": "",
   "pygments_lexer": "",
   "version": "go1.14.3"
  }
 },
 "nbformat": 4,
 "nbformat_minor": 4
}
