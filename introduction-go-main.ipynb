{
 "cells": [
  {
   "cell_type": "markdown",
   "metadata": {
    "slideshow": {
     "slide_type": "slide"
    }
   },
   "source": [
    "# ‘‘Go is an open source programming language that makes it easy to build simple, reliable, and efficient software.’’ \n",
    "\n",
    "(From the Go web site at golang.org)"
   ]
  },
  {
   "cell_type": "markdown",
   "metadata": {
    "slideshow": {
     "slide_type": "slide"
    }
   },
   "source": [
    "### <span style=\"color:blue\">Names</span>\n",
    "\n",
    "**Naming rules for Golang** constants, variables, types, statement labels and packages:\n",
    "\n",
    "1. name can begin with any Unicode letter or\n",
    "2. an underscore\n",
    "3. may have any number of additional letters, digits or underscores\n",
    "4. Go is **case sensitive**\n",
    "\n"
   ]
  },
  {
   "cell_type": "code",
   "execution_count": null,
   "metadata": {
    "slideshow": {
     "slide_type": "subslide"
    }
   },
   "outputs": [],
   "source": [
    "// uni code example\n",
    "var  食 string = \"Leberwurst\""
   ]
  },
  {
   "cell_type": "code",
   "execution_count": null,
   "metadata": {
    "slideshow": {
     "slide_type": "subslide"
    }
   },
   "outputs": [],
   "source": [
    "// underscore example   \n",
    "_numberOfStarsInTheMilkyWay :=4*10^11 // according to Wikipedia "
   ]
  },
  {
   "cell_type": "code",
   "execution_count": null,
   "metadata": {
    "slideshow": {
     "slide_type": "subslide"
    }
   },
   "outputs": [],
   "source": [
    "// any number of additional letters, digits and underscores\n",
    "var czesć_times_4 string = \"hello, hallo, hi, olla\""
   ]
  },
  {
   "cell_type": "code",
   "execution_count": null,
   "metadata": {
    "slideshow": {
     "slide_type": "subslide"
    }
   },
   "outputs": [],
   "source": [
    "// is case sensitive\n",
    "var color string = \"green\"\n",
    "var Color string = \"blue\"\n",
    "color == color\n",
    "//color == Color"
   ]
  },
  {
   "cell_type": "markdown",
   "metadata": {
    "slideshow": {
     "slide_type": "slide"
    }
   },
   "source": [
    "### <span style=\"color:blue\">Keywords</span>\n",
    "\n",
    "Go has only a very **small number** of keywords:\n",
    "\n",
    "<table>\n",
    "<tr>\n",
    "    <td>break</td>\n",
    "    <td>default</td>\n",
    "    <td>func</td>\n",
    "    <td>interface</td>\n",
    "    <td>select</td>\n",
    "</tr>\n",
    "<tr>\n",
    "    <td>case</td>\n",
    "    <td>defer</td>\n",
    "    <td>go</td>\n",
    "    <td>map</td>\n",
    "    <td>struct</td>\n",
    "</tr>\n",
    "<tr>\n",
    "    <td>chan</td>\n",
    "    <td>else</td>\n",
    "    <td>goto</td>\n",
    "    <td>package</td>\n",
    "    <td>switch</td>\n",
    "</tr>\n",
    "<tr>\n",
    "    <td>const</td>\n",
    "    <td>fallthrough</td>\n",
    "    <td>if</td>\n",
    "    <td>range</td>\n",
    "    <td>type</td>\n",
    "</tr>\n",
    "<tr>\n",
    "    <td>continue</td>\n",
    "    <td>for</td>\n",
    "    <td>import</td>\n",
    "    <td>return</td>\n",
    "    <td>var</td>\n",
    "</tr>\n",
    "</table>\n",
    "\n",
    "<p>\n",
    "\n",
    "<center>\n",
    "<span style=\"color:red\">NOTE:</span> can't be used as names\n",
    "</center>"
   ]
  },
  {
   "cell_type": "markdown",
   "metadata": {
    "slideshow": {
     "slide_type": "subslide"
    }
   },
   "source": [
    "\n",
    "### <span style=\"color:blue\">Unfamiliar from other languages:</span>\n",
    "\n",
    "<table>\n",
    "<tr>\n",
    "    <td>break</td>\n",
    "    <td>default</td>\n",
    "    <td>func</td>\n",
    "    <td>interface</td>\n",
    "    <td>select</td>\n",
    "</tr>\n",
    "<tr>\n",
    "    <td>case</td>\n",
    "    <td style=\"color:red\">defer</td>\n",
    "    <td style=\"color:red\">go</td>\n",
    "    <td>map</td>\n",
    "    <td>struct</td>\n",
    "</tr>\n",
    "<tr>\n",
    "    <td style=\"color:red\">chan</td>\n",
    "    <td>else</td>\n",
    "    <td>goto</td>\n",
    "    <td>package</td>\n",
    "    <td>switch</td>\n",
    "</tr>\n",
    "<tr>\n",
    "    <td>const</td>\n",
    "    <td>fallthrough</td>\n",
    "    <td>if</td>\n",
    "    <td style=\"color:red\">range</td>\n",
    "    <td>type</td>\n",
    "</tr>\n",
    "<tr>\n",
    "    <td>continue</td>\n",
    "    <td>for</td>\n",
    "    <td>import</td>\n",
    "    <td>return</td>\n",
    "    <td>var</td>\n",
    "</tr>\n",
    "</table>\n",
    "\n",
    "<p>\n",
    "\n",
    "<center>\n",
    "<span style=\"color:red\">NOTE:</span> will be explained later\n",
    "</center>"
   ]
  },
  {
   "attachments": {},
   "cell_type": "markdown",
   "metadata": {
    "slideshow": {
     "slide_type": "slide"
    }
   },
   "source": [
    "### <span style=\"color:blue\">Predeclared names for built-in constants, types and functions</span>\n",
    "\n",
    "<table>\n",
    "<tr>\n",
    "    <td style=\"color:blue\">Constants</td>\n",
    "    <td>true, false, iota, nil</td>\n",
    "</tr>\n",
    "<tr>\n",
    "    <td style=\"color:blue\">Types</td>\n",
    "    <td> <p> int, int8, int16, int32, int64,\n",
    "        <p> uint8, uint16, uint32, uint64, uintptr,\n",
    "        <p>float32, float64, complex128, complex64,\n",
    "        <p>bool, byte, rune, string, error\n",
    "    </td>\n",
    "</tr>\n",
    "<tr>\n",
    "    <td style=\"color:blue\">Functions</td>\n",
    "    <td><p>make, len, cap, new, append, copy, close, delete,\n",
    "        <p>complex, real, imag,\n",
    "        <p>panic, recover\n",
    "    </td>\n",
    "</tr>\n",
    "</table>"
   ]
  },
  {
   "cell_type": "markdown",
   "metadata": {
    "slideshow": {
     "slide_type": "subslide"
    }
   },
   "source": [
    "<span style=\"color:red\">NOTE:</span>\n",
    "    \n",
    " - names are not resevered -> you may use them\n",
    " - potential confusion"
   ]
  },
  {
   "cell_type": "code",
   "execution_count": null,
   "metadata": {},
   "outputs": [],
   "source": []
  }
 ],
 "metadata": {
  "celltoolbar": "Slideshow",
  "kernelspec": {
   "display_name": "Go",
   "language": "go",
   "name": "gophernotes"
  },
  "language_info": {
   "codemirror_mode": "",
   "file_extension": ".go",
   "mimetype": "",
   "name": "go",
   "nbconvert_exporter": "",
   "pygments_lexer": "",
   "version": "go1.14.3"
  }
 },
 "nbformat": 4,
 "nbformat_minor": 4
}
